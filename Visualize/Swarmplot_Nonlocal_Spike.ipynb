{
 "cells": [
  {
   "cell_type": "code",
   "execution_count": null,
   "id": "427757d3",
   "metadata": {},
   "outputs": [],
   "source": [
    "import os\n",
    "import numpy as np\n",
    "import pandas as pd\n",
    "import seaborn as sns\n",
    "import scipy.io as spio\n",
    "import matplotlib.pyplot as plt\n",
    "\n",
    "def createData(input1,input2):\n",
    "    labels1 = np.ones(np.shape(input1))\n",
    "    labels2 = np.ones(np.shape(input2))+1\n",
    "    labels = np.reshape(np.concatenate((labels1,labels2),axis=0),(len(input1)+len(input2),1))\n",
    "    values = np.reshape(np.concatenate((input1,input2),axis=0),(len(input1)+len(input2),1))\n",
    "    fullArr = np.concatenate((labels,values),axis=1)\n",
    "    fullDF = pd.DataFrame(fullArr,columns=['labels','values'])\n",
    "    return fullDF\n",
    "\n",
    "def loadValuesFromFile(rawFile):\n",
    "    rmat = spio.loadmat(rawFile)\n",
    "    hpcProsp = rmat.get('hpcProspPercentNonlocal').flatten()\n",
    "    hpcRetro = rmat.get('hpcRetroPercentNonlocal').flatten()\n",
    "    pfcProsp = rmat.get('pfcProspPercentNonlocal').flatten()\n",
    "    pfcRetro = rmat.get('pfcRetroPercentNonlocal').flatten()\n",
    "    return createData(hpcProsp,pfcProsp),createData(hpcRetro,pfcRetro)\n",
    "\n",
    "def generateFigure(inputRefFile):\n",
    "    prospDF,retroDF = loadValuesFromFile(inputRefFile)\n",
    "    fig = plt.figure(figsize=(24,24))\n",
    "    ax1 = fig.add_subplot(3,3,1)\n",
    "    ax2 = fig.add_subplot(3,3,2)\n",
    "    sns.swarmplot(x=\"labels\", y=\"values\",data=prospDF,ax=ax1,palette=['k','k'])\n",
    "    sns.swarmplot(x=\"labels\", y=\"values\",data=retroDF,ax=ax2,palette=['k','k'])\n",
    "    ax1.set_ylim([0,.4])\n",
    "    ax1.set_xticklabels([])\n",
    "    ax1.set_xlabel('')\n",
    "    ax1.set_yticklabels([])\n",
    "    ax1.set_ylabel('')\n",
    "    ax2.set_ylim([0,.4])\n",
    "    ax2.set_xticklabels([])\n",
    "    ax2.set_xlabel('')\n",
    "    ax2.set_yticklabels([])\n",
    "    ax2.set_ylabel('')\n",
    "    #plt.show()\n",
    "    fig.savefig('',bbox_inches='tight')\n",
    "    plt.close()\n",
    "    return None\n",
    "\n",
    "ref = ''\n",
    "var = generateFigure(ref)"
   ]
  }
 ],
 "metadata": {
  "kernelspec": {
   "display_name": "Python 3 (ipykernel)",
   "language": "python",
   "name": "python3"
  },
  "language_info": {
   "codemirror_mode": {
    "name": "ipython",
    "version": 3
   },
   "file_extension": ".py",
   "mimetype": "text/x-python",
   "name": "python",
   "nbconvert_exporter": "python",
   "pygments_lexer": "ipython3",
   "version": "3.9.13"
  }
 },
 "nbformat": 4,
 "nbformat_minor": 5
}
